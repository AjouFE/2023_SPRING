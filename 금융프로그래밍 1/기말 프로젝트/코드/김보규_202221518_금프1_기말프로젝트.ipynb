{
 "cells": [
  {
   "cell_type": "code",
   "execution_count": 15,
   "id": "ff1c6b1f",
   "metadata": {},
   "outputs": [
    {
     "name": "stdout",
     "output_type": "stream",
     "text": [
      "[133.2381559   98.73799424 219.15168055 152.51546384 189.0550116\n",
      " 164.42456717 109.63270413 211.52546841 100.21372165 131.89105456\n",
      " 119.59073491 310.05711248 187.72471234 125.66067741 154.88574598\n",
      " 110.98632045 169.22255199 122.35118297 123.15723851  87.94946239\n",
      "  90.24626155 113.47638779]\n"
     ]
    }
   ],
   "source": [
    "import numpy as np\n",
    "\n",
    "class Stock:\n",
    "    def __init__(self, symbol, expected_return, volatility, current_price):\n",
    "        self.symbol = symbol\n",
    "        self.expected_return = expected_return\n",
    "        self.volatility = volatility\n",
    "        self.current_price = current_price\n",
    "    \n",
    "    def get_price_after_years(self, t=None, seed=None, size=None):\n",
    "        if seed is not None:\n",
    "            np.random.seed(seed)\n",
    "        \n",
    "        z = np.random.normal(0, 1, size=size) #표준 정규 분포 N(0,1)에서 샘플 생성\n",
    "        \n",
    "        future_price = self.current_price * np.exp((self.expected_return - 0.5*self.volatility**2) * t+self.volatility * np.sqrt(t) * z)\n",
    "        \n",
    "        return future_price\n",
    "    \n",
    "stock = Stock(\"samsung\", 0.04, 0.3, 100) # samsung 주식, 기대 수익률 0.04, 변동성 0.3, 현재 가격 100\n",
    "future_price = stock.get_price_after_years(t=5, seed=5015, size=22)\n",
    "print(future_price)"
   ]
  },
  {
   "cell_type": "code",
   "execution_count": 20,
   "id": "03cbb86f",
   "metadata": {},
   "outputs": [
    {
     "name": "stdout",
     "output_type": "stream",
     "text": [
      "표본평균1: 87.26202448049602\n",
      "표본분산1: 1298.0313214886282\n",
      "표본평균2: 125.61750062694406\n",
      "표본분산2: 11351.71404322902\n",
      "표본평균3: 122.83550113438955\n",
      "표본분산3: 8544.062799717198\n"
     ]
    }
   ],
   "source": [
    "import numpy as np\n",
    "\n",
    "class Stock:\n",
    "    def __init__(self, symbol, expected_return, volatility, current_price):\n",
    "        self.symbol = symbol\n",
    "        self.expected_return = expected_return\n",
    "        self.volatility = volatility\n",
    "        self.current_price = current_price\n",
    "    \n",
    "    def get_price_after_years(self, t=None, seed=None, size=None):\n",
    "        if seed is not None:\n",
    "            np.random.seed(seed)\n",
    "        \n",
    "        z = np.random.normal(0, 1, size=size) #표준 정규 분포 N(0,1)에서 샘플 생성\n",
    "        \n",
    "        future_price = self.current_price * np.exp((self.expected_return - 0.5*self.volatility**2) * t+self.volatility * np.sqrt(t) * z)\n",
    "        \n",
    "        return future_price\n",
    "    \n",
    "    def get_sample_statistics(self, t=None, seed=None, size=None):\n",
    "        future_prices = self.get_price_after_years(t=t, seed=seed, size=size)\n",
    "        sample_mean = np.mean(future_prices)\n",
    "        sample_variance = np.var(future_prices)\n",
    "        return sample_mean, sample_variance\n",
    "\n",
    "\n",
    "stock = Stock(\"samsung\", 0.04, 0.3, 100) # samsung 주식, 기대 수익률 0.04, 변동성 0.3, 현재 가격 100\n",
    "sample_mean, sample_variance = stock.get_sample_statistics(t=5, seed=5015, size=10)\n",
    "print(f\"표본평균1: {sample_mean}\")\n",
    "print(f\"표본분산1: {sample_variance}\")\n",
    "\n",
    "stock = Stock(\"samsung\", 0.04, 0.3, 100) # samsung 주식, 기대 수익률 0.04, 변동성 0.3, 현재 가격 100\n",
    "sample_mean, sample_variance = stock.get_sample_statistics(t=5, seed=5015, size=1000)\n",
    "print(f\"표본평균2: {sample_mean}\")\n",
    "print(f\"표본분산2: {sample_variance}\")\n",
    "\n",
    "stock = Stock(\"samsung\", 0.04, 0.3, 100) # samsung 주식, 기대 수익률 0.04, 변동성 0.3, 현재 가격 100\n",
    "sample_mean, sample_variance = stock.get_sample_statistics(t=5, seed=5015, size=100000)\n",
    "print(f\"표본평균3: {sample_mean}\")\n",
    "print(f\"표본분산3: {sample_variance}\")\n",
    "\n",
    "#5년후의 표본평균을 기대수익, 변동성, 현재가격을 각각 0.04, 0.3, 100으로 잡고 계산했을 때 표본평균은 122.140275816이 나온다\n",
    "#5년후의 표본분산을 기대수익, 변동성, 현재가격을 각각 0.04, 0.3, 100으로 잡고 계산했을 때 표본분산은 8478.22154285이 나온다\n"
   ]
  },
  {
   "cell_type": "code",
   "execution_count": 22,
   "id": "95228d0f",
   "metadata": {},
   "outputs": [
    {
     "name": "stdout",
     "output_type": "stream",
     "text": [
      "A: Expected Return = 0.049999999999999996, Variance = 0.0021000000000000003\n",
      "B: Expected Return = 0.025, Variance = 0.0056250000000000015\n",
      "C: Expected Return = 0.032, Variance = 0.001176\n",
      "Investment options sorted by variance:\n",
      "C: Variance = 0.001176\n",
      "A: Variance = 0.0021000000000000003\n",
      "B: Variance = 0.0056250000000000015\n"
     ]
    }
   ],
   "source": [
    "class InvestmentOption:\n",
    "    def __init__(self, name, expected_return_good, expected_return_bad, probability_good):\n",
    "        self.name = name\n",
    "        self.expected_return_good = expected_return_good\n",
    "        self.expected_return_bad = expected_return_bad\n",
    "        self.probability_good = probability_good\n",
    "    \n",
    "    def calculate_expected_return(self):\n",
    "        return self.probability_good * self.expected_return_good + (1 - self.probability_good) * self.expected_return_bad\n",
    "    \n",
    "    def calculate_variance(self):\n",
    "        variance_good = self.probability_good * (self.expected_return_good - self.calculate_expected_return())**2\n",
    "        variance_bad = (1 - self.probability_good) * (self.expected_return_bad - self.calculate_expected_return())**2\n",
    "        return variance_good + variance_bad\n",
    "\n",
    "\n",
    "# 투자안 생성\n",
    "option_a = InvestmentOption(\"A\", 0.08, -0.02, 0.7)\n",
    "option_b = InvestmentOption(\"B\", 0.1, -0.05, 0.5)\n",
    "option_c = InvestmentOption(\"C\", 0.06, -0.01, 0.6)\n",
    "\n",
    "# 기대수익률과 분산 계산\n",
    "investments = [option_a, option_b, option_c]\n",
    "for investment in investments:\n",
    "    expected_return = investment.calculate_expected_return()\n",
    "    variance = investment.calculate_variance()\n",
    "    print(f\"{investment.name}: Expected Return = {expected_return}, Variance = {variance}\")\n",
    "\n",
    "# 수익률의 분산이 작을 수록 안전한 투자이므로 수익률의 분산이 작은 순서로 정렬\n",
    "sorted_investments = sorted(investments, key=lambda x: x.calculate_variance())\n",
    "print(\"Investment options sorted by variance:\")\n",
    "for investment in sorted_investments:\n",
    "    print(f\"{investment.name}: Variance = {investment.calculate_variance()}\")\n"
   ]
  },
  {
   "cell_type": "code",
   "execution_count": 26,
   "id": "95b9a93d",
   "metadata": {
    "scrolled": true
   },
   "outputs": [
    {
     "name": "stdout",
     "output_type": "stream",
     "text": [
      "[ 70.27558941  44.83199118 148.24456673  86.06615413 118.78014982\n",
      "  96.34110829  52.45317321 140.57418531  45.84081849  69.21250824\n",
      "  59.75962715 249.47333016 117.5286502   64.36661522  88.08029384\n",
      "  53.42761123 100.58864025  61.84062016  62.45273908  37.68871763\n",
      "  39.17467549  55.23569607  49.00457932  80.82537336 109.32143425\n",
      "  11.43804545  36.19501343 255.60730657  42.43165521  47.39918051\n",
      "  65.23825375  60.87951468 124.45400837  53.20254161  76.87422981\n",
      " 145.23681845 107.45619769 166.70850982  57.60739731  85.75374881\n",
      " 162.99908967  84.99794982  91.06317758  30.0629166   78.28104267\n",
      "  77.95230503  56.35233019  65.61152334  53.22426177 106.9811842\n",
      " 187.1550831  590.14038283  84.9685644  123.48920874  46.88262382\n",
      "  32.3702305   60.99148273  93.64778901 294.35679342  13.54044405\n",
      "  43.11259    113.92958091  29.63804653 140.70373871 273.6922448\n",
      " 113.49480182 111.9019498   98.02842438 173.85801897 276.86133664\n",
      "  59.67674278  58.21959875 166.04810365 163.84445363 122.61209189\n",
      "  54.84130242 301.80766176 349.24205146 408.86902768 108.27011839\n",
      "  86.77197277  69.5533041  178.53490782  76.16499995 126.86239901\n",
      " 112.01257739 154.04522919  71.36736993 106.25038255  97.75313466\n",
      " 171.25166376 110.13581966  71.56615565  18.96356987 221.56714067\n",
      "  57.29782895  49.03969826  39.82908331 196.03964321 128.45233414]\n"
     ]
    },
    {
     "data": {
      "image/png": "[encoded data removed]",
      "text/plain": [
       "<Figure size 640x480 with 1 Axes>"
      ]
     },
     "metadata": {},
     "output_type": "display_data"
    }
   ],
   "source": [
    "import numpy as np\n",
    "import matplotlib.pyplot as plt\n",
    "\n",
    "class Stock:\n",
    "    def __init__(self, symbol, expected_return, volatility, current_price):\n",
    "        self.symbol = symbol\n",
    "        self.expected_return = expected_return\n",
    "        self.volatility = volatility\n",
    "        self.current_price = current_price\n",
    "    \n",
    "    def get_price_after_years(self, t=None, seed=None, size=None):\n",
    "        if seed is not None:\n",
    "            np.random.seed(seed)\n",
    "        \n",
    "        z = np.random.normal(0, 1, size=size) #표준 정규 분포 N(0,1)에서 샘플 생성\n",
    "        \n",
    "        future_price = self.current_price * np.exp((self.expected_return - 0.5*self.volatility**2) * t+self.volatility * np.sqrt(t) * z)\n",
    "        \n",
    "        return future_price\n",
    "    \n",
    "stock = Stock(\"samsung\", 0.04, 0.3, 100) # samsung 주식, 기대 수익률 0.04, 변동성 0.3, 현재 가격 100\n",
    "future_price = stock.get_price_after_years(t=5, seed=5015, size=100)\n",
    "print(future_price)\n",
    "\n",
    "# 산포도 그리기\n",
    "plt.scatter(range(len(future_price)), future_price, s=5)\n",
    "plt.xlabel('Sample Index')\n",
    "plt.ylabel('Future Price')\n",
    "plt.title('Scatter Plot of Future Price')\n",
    "plt.show()\n"
   ]
  },
  {
   "cell_type": "code",
   "execution_count": 39,
   "id": "1620302a",
   "metadata": {
    "scrolled": false
   },
   "outputs": [
    {
     "name": "stdout",
     "output_type": "stream",
     "text": [
      "[ 70.27558941  44.83199118 148.24456673  86.06615413 118.78014982\n",
      "  96.34110829  52.45317321 140.57418531  45.84081849  69.21250824\n",
      "  59.75962715 249.47333016 117.5286502   64.36661522  88.08029384\n",
      "  53.42761123 100.58864025  61.84062016  62.45273908  37.68871763\n",
      "  39.17467549  55.23569607]\n",
      "0.02\n"
     ]
    }
   ],
   "source": [
    "import numpy as np\n",
    "\n",
    "class Stock:\n",
    "    def __init__(self, symbol, expected_return, volatility, current_price, net_income):\n",
    "        self.symbol = symbol\n",
    "        self.expected_return = expected_return\n",
    "        self.volatility = volatility\n",
    "        self.current_price = current_price\n",
    "        self.net_income = net_income\n",
    "    \n",
    "    def get_price_after_years(self, t=None, seed=None, size=None):\n",
    "        if seed is not None:\n",
    "            np.random.seed(seed)\n",
    "        \n",
    "        z = np.random.normal(0, 1, size=size)  # 표준 정규 분포 N(0,1)에서 샘플 생성\n",
    "        \n",
    "        future_price = self.current_price * np.exp((self.expected_return - 0.5*self.volatility**2) * t + self.volatility * np.sqrt(t) * z)\n",
    "        \n",
    "        return future_price\n",
    "    \n",
    "    def PER(self):\n",
    "        return self.current_price / self.net_income\n",
    "\n",
    "stock = Stock(\"samsung\", 0.04, 0.3, 100, 5000)  # 삼성 주식, 기대 수익률 0.04, 변동성 0.3, 현재 가격 100, 당기순이익 5000\n",
    "future_price = stock.get_price_after_years(t=5, seed=5015, size=22)\n",
    "print(future_price)\n",
    "\n",
    "print(stock.PER())\n"
   ]
  }
 ],
 "metadata": {
  "kernelspec": {
   "display_name": "Python 3 (ipykernel)",
   "language": "python",
   "name": "python3"
  },
  "language_info": {
   "codemirror_mode": {
    "name": "ipython",
    "version": 3
   },
   "file_extension": ".py",
   "mimetype": "text/x-python",
   "name": "python",
   "nbconvert_exporter": "python",
   "pygments_lexer": "ipython3",
   "version": "3.9.13"
  }
 },
 "nbformat": 4,
 "nbformat_minor": 5
}
