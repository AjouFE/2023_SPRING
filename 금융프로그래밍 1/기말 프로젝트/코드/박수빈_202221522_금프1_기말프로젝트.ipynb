{
 "cells": [
  {
   "cell_type": "code",
   "execution_count": null,
   "id": "faebcd19",
   "metadata": {},
   "outputs": [],
   "source": [
    "멤버함수: cal_future_price(T년 후의 주가), cal_sample_stats(표본평균과 표본분산 및 이론적 수치에 수렴하는지 여부),\n",
    "          show_future_price_histogram(T년 후의 주가를 히스토그램으로 시각화), cal_EPS(EPS값 계산), cal_PER(PER값 계산),\n",
    "          cal_BPS(BPS값 계산), cal_PBR(PBR값 계산)\n",
    "            \n",
    "멤버변수: expect_return(기대수익률), volatility(변동성), stock_price(현재주가), net_profit(당기순이익), shares(보통주식수),\n",
    "          net_assets(순자산), total_shares(총 발행주식수)"
   ]
  },
  {
   "cell_type": "code",
   "execution_count": 2,
   "id": "e972ca63",
   "metadata": {},
   "outputs": [],
   "source": [
    "import numpy as np\n",
    "import random\n",
    "import matplotlib.pyplot as plt\n",
    "\n",
    "\n",
    "class Stock:\n",
    "    def __init__(self):\n",
    "        pass\n",
    "    \n",
    "class my_stock(Stock):\n",
    "    def __init__(self):\n",
    "        pass\n",
    "    \n",
    "class Stock:\n",
    "    def __init__(self, expect_return, volatility, stock_price, net_profit, shares, net_assets, total_shares):\n",
    "        self.expect_return = expect_return\n",
    "        self.volatility = volatility\n",
    "        self.stock_price = stock_price\n",
    "        self.net_profit = net_profit\n",
    "        self.shares = shares\n",
    "        self.net_assets = net_assets\n",
    "        self.total_shares = total_shares\n",
    "        \n",
    "    def cal_future_price(self, T, seed, size):\n",
    "        np.random.seed(seed)\n",
    "        z = np.random.normal(0, 1, size)                                                \n",
    "        future_price = self.stock_price * np.exp((self.expect_return \n",
    "                                                  - 0.5 * (self.volatility ** 2)) * T + self.volatility * np.sqrt(T) * z)\n",
    "        return future_price\n",
    "    \n",
    "    def cal_sample_stats(self, T, seed, n):\n",
    "        future_prices = self.cal_future_price(T, seed, size = n)\n",
    "        sample_mean = np.mean(future_prices)\n",
    "        sample_variance = np.var(future_prices)\n",
    "        E = self.stock_price * np.exp(self.expect_return * T)\n",
    "        Var= (self.stock_price ** 2) * np.exp(2 * self.expect_return * T) * (np.exp((self.volatility ** 2) * T) - 1)\n",
    "        if abs(sample_mean - E) < 10:      #임의의 기준값 10(다른 숫자로 수정 가능)\n",
    "            print('표본평균은 E로 수렴한다')\n",
    "        else:\n",
    "            print('표본평균은 E로 수렴하지 않는다')\n",
    "        if abs(sample_variance - Var) < 10000:     #임의의 기준값 10000(다른 숫자로 수정 가능)\n",
    "            print('표본분산은 Var로 수렴한다')\n",
    "        else:\n",
    "            print('표본분산은 Var로 수렴하지 않는다')\n",
    "        return sample_mean, E, sample_variance, Var\n",
    "\n",
    "    def show_future_price_histogram(self, T, seed, size):\n",
    "        future_prices = self.cal_future_price(T, seed, size)\n",
    "        plt.plot(future_prices)\n",
    "        plt.show()\n",
    "        return future_prices\n",
    "    \n",
    "    def cal_EPS(self, net_profit, shares):\n",
    "        EPS = self.net_profit * self.shares\n",
    "        return EPS    \n",
    "    \n",
    "    def cal_PER(self, stock_price, net_profit, shares):\n",
    "        EPS = self.cal_EPS(net_profit, shares)\n",
    "        PER = self.stock_price / EPS\n",
    "        if PER <= 10:\n",
    "            print('이 주식은 저PER주 입니다. 주가가 향후 더 오를 가능성이 큽니다.')\n",
    "        else:\n",
    "            print('이 주식은 저PER주가 아닙니다. 주가가 향후 더 오를 가능성이 작습니다.')\n",
    "        return PER\n",
    "    \n",
    "    def cal_BPS(self, net_assets, total_shares):\n",
    "        BPS = self.net_assets / self.total_shares\n",
    "        return BPS\n",
    "    \n",
    "    def cal_PBR(self, stock_price, net_assets, total_shares):\n",
    "        BPS = self.cal_BPS(net_assets, total_shares)\n",
    "        PBR = self.stock_price / BPS\n",
    "        if PBR <= 0.7:\n",
    "            print('매수를 적극적으로 고려해보십시오.')\n",
    "        elif 0.7 < PBR < 1.5:\n",
    "            print('매수 고려 시 다른 지표들도 비교하십시오.')\n",
    "        else:\n",
    "            print('매수를 별로 추천드리지 않습니다.')\n",
    "        return PBR\n"
   ]
  },
  {
   "cell_type": "code",
   "execution_count": 3,
   "id": "9f31578b",
   "metadata": {},
   "outputs": [
    {
     "name": "stdout",
     "output_type": "stream",
     "text": [
      "[41174.38762382 13952.53828162 14850.28558345 30233.07874719\n",
      " 15705.99263709  6911.39478959  7652.08445776 11800.96712806\n",
      " 21481.37774648 13342.90825543]\n"
     ]
    }
   ],
   "source": [
    "my_stock = Stock(0.5, 0.2, 100, 8500, 100, 80000, 100)\n",
    "x = my_stock.cal_future_price(10, 265, 10)\n",
    "\n",
    "print(x)"
   ]
  },
  {
   "cell_type": "code",
   "execution_count": 4,
   "id": "e9eb53d8",
   "metadata": {},
   "outputs": [
    {
     "name": "stdout",
     "output_type": "stream",
     "text": [
      "표본평균은 E로 수렴하지 않는다\n",
      "표본분산은 Var로 수렴하지 않는다\n",
      "(14694.927457973408, 14841.31591025766, 112012551.94532637, 108331598.79636598)\n"
     ]
    }
   ],
   "source": [
    "my_stock = Stock(0.5, 0.2, 100, 8500, 100, 80000, 100)\n",
    "y = my_stock.cal_sample_stats(10, 265, 100)\n",
    "\n",
    "print(y)"
   ]
  },
  {
   "cell_type": "code",
   "execution_count": 5,
   "id": "d7cb0b8c",
   "metadata": {},
   "outputs": [
    {
     "data": {
      "image/png": "[encoded data removed]",
      "text/plain": [
       "<Figure size 432x288 with 1 Axes>"
      ]
     },
     "metadata": {
      "needs_background": "light"
     },
     "output_type": "display_data"
    },
    {
     "name": "stdout",
     "output_type": "stream",
     "text": [
      "[41174.38762382 13952.53828162 14850.28558345 30233.07874719\n",
      " 15705.99263709  6911.39478959  7652.08445776 11800.96712806\n",
      " 21481.37774648 13342.90825543]\n"
     ]
    }
   ],
   "source": [
    "my_stock = Stock(0.5, 0.2, 100, 8500, 100, 80000, 100)\n",
    "a = my_stock.show_future_price_histogram(10, 265, 10)\n",
    "\n",
    "print(a)"
   ]
  },
  {
   "cell_type": "code",
   "execution_count": 6,
   "id": "d7833475",
   "metadata": {},
   "outputs": [
    {
     "name": "stdout",
     "output_type": "stream",
     "text": [
      "850000\n"
     ]
    }
   ],
   "source": [
    "my_stock = Stock(0.5, 0.2, 100, 8500, 100, 80000, 100)\n",
    "b = my_stock.cal_EPS(8500, 100)\n",
    "\n",
    "print(b)"
   ]
  },
  {
   "cell_type": "code",
   "execution_count": 7,
   "id": "503f5240",
   "metadata": {},
   "outputs": [
    {
     "name": "stdout",
     "output_type": "stream",
     "text": [
      "이 주식은 저PER주 입니다. 주가가 향후 더 오를 가능성이 큽니다.\n",
      "0.00011764705882352942\n"
     ]
    }
   ],
   "source": [
    "my_stock = Stock(0.5, 0.2, 100, 8500, 100, 80000, 100)\n",
    "c = my_stock.cal_PER(100, 8500, 100)\n",
    "\n",
    "print(c)"
   ]
  },
  {
   "cell_type": "code",
   "execution_count": 8,
   "id": "f22e22e9",
   "metadata": {},
   "outputs": [
    {
     "name": "stdout",
     "output_type": "stream",
     "text": [
      "800.0\n"
     ]
    }
   ],
   "source": [
    "my_stock = Stock(0.5, 0.2, 100, 8500, 100, 80000, 100)\n",
    "d = my_stock.cal_BPS(80000, 100)\n",
    "\n",
    "print(d)"
   ]
  },
  {
   "cell_type": "code",
   "execution_count": 9,
   "id": "7c885059",
   "metadata": {},
   "outputs": [
    {
     "name": "stdout",
     "output_type": "stream",
     "text": [
      "매수를 적극적으로 고려해보십시오.\n",
      "0.125\n"
     ]
    }
   ],
   "source": [
    "my_stock = Stock(0.5, 0.2, 100, 8500, 100, 80000, 100)\n",
    "e = my_stock.cal_PBR(100, 80000, 100)\n",
    "\n",
    "print(e)"
   ]
  },
  {
   "cell_type": "code",
   "execution_count": null,
   "id": "91c9f804",
   "metadata": {},
   "outputs": [],
   "source": []
  }
 ],
 "metadata": {
  "kernelspec": {
   "display_name": "Python 3 (ipykernel)",
   "language": "python",
   "name": "python3"
  },
  "language_info": {
   "codemirror_mode": {
    "name": "ipython",
    "version": 3
   },
   "file_extension": ".py",
   "mimetype": "text/x-python",
   "name": "python",
   "nbconvert_exporter": "python",
   "pygments_lexer": "ipython3",
   "version": "3.9.7"
  }
 },
 "nbformat": 4,
 "nbformat_minor": 5
}
